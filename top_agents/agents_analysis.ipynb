{
 "cells": [
  {
   "cell_type": "code",
   "execution_count": 41,
   "id": "b7b05897-546c-4242-88ad-7af48a0ac733",
   "metadata": {},
   "outputs": [],
   "source": [
    "import pandas as pd\n",
    "from collections import Counter\n",
    "import csv"
   ]
  },
  {
   "cell_type": "markdown",
   "id": "9352dbd7-109b-44e2-a186-9e324c4fbcac",
   "metadata": {},
   "source": [
    "### Top PER mentioned"
   ]
  },
  {
   "cell_type": "code",
   "execution_count": 4,
   "id": "c9952b38-aee3-4255-9a49-285f9ccf51cf",
   "metadata": {},
   "outputs": [],
   "source": [
    "df = pd.read_csv(\"CATEGORIZED_NLP_data_entities.csv\")"
   ]
  },
  {
   "cell_type": "code",
   "execution_count": 58,
   "id": "dc06237c-3a69-4143-82ce-74cae493f938",
   "metadata": {},
   "outputs": [],
   "source": [
    "def find_entities(row, tags):\n",
    "    ent_type = row[\"entity_type\"]\n",
    "    if ent_type in tags:\n",
    "        lemma = row[\"lemma_entity\"]\n",
    "        text_id = row[\"refdoc_id\"]\n",
    "        #print(text_id)\n",
    "        return lemma, ent_type, text_id\n",
    "    else:\n",
    "        return None, None, None"
   ]
  },
  {
   "cell_type": "code",
   "execution_count": 59,
   "id": "1afdc113-5bcc-417b-9104-7f4b82228f6b",
   "metadata": {},
   "outputs": [],
   "source": [
    "entities = [[],[],[]]\n",
    "names = {}\n",
    "tags = [\"PER\", \"ORG\", \"MISC\"] #people, organizations, mixed\n",
    "\n",
    "for index, row in df.iterrows():\n",
    "    ent_found, ent_type, text_id = find_entities(row, tags)\n",
    "    if ent_found is not None:\n",
    "        i = tags.index(ent_type)\n",
    "        entities[i].append(ent_found)\n",
    "        if ent_found not in names:\n",
    "            names[ent_found] = [text_id]\n",
    "        else:\n",
    "            names[ent_found].append(text_id)\n",
    "        "
   ]
  },
  {
   "cell_type": "code",
   "execution_count": 28,
   "id": "c9328298-0e81-4dfb-b574-a8152719e9a6",
   "metadata": {},
   "outputs": [],
   "source": [
    "people = entities[0]\n",
    "organizations = entities[1]\n",
    "mixed = entities[2]"
   ]
  },
  {
   "cell_type": "code",
   "execution_count": 110,
   "id": "5d6f5863-5488-4aec-8087-2ac716fea4e2",
   "metadata": {},
   "outputs": [],
   "source": [
    "def find_urls(text_id, df):\n",
    "    result = df[df['refdoc_id'] == text_id][\"url\"].tolist()[0]\n",
    "    return result"
   ]
  },
  {
   "cell_type": "code",
   "execution_count": 111,
   "id": "1178e56d-33d7-4c15-89c9-32c207514896",
   "metadata": {},
   "outputs": [
    {
     "data": {
      "text/plain": [
       "'https://www.ilsole24ore.com/art/nomadi-digitali-come-funziona-nuova-legge-trasferirsi-italia-AERHQPSB'"
      ]
     },
     "execution_count": 111,
     "metadata": {},
     "output_type": "execute_result"
    }
   ],
   "source": [
    "find_urls(\"text2\", sample)"
   ]
  },
  {
   "cell_type": "code",
   "execution_count": 107,
   "id": "d342eac1-950a-45d4-807c-0f5054bbaf28",
   "metadata": {},
   "outputs": [
    {
     "name": "stdout",
     "output_type": "stream",
     "text": [
      "people.csv\n",
      "organizations.csv\n",
      "mixed.csv\n"
     ]
    }
   ],
   "source": [
    "filenames = ['people.csv', 'organizations.csv', 'mixed.csv'] \n",
    "header = ['entity', 'number of mentiones', 'number of articles', 'text_ids', 'urls']\n",
    "i = 0\n",
    "sample = pd.read_csv(\"final_sample.csv\")\n",
    "\n",
    "\n",
    "for filename in filenames:\n",
    "    with open(filename, 'w', newline='') as csvfile:\n",
    "        file = csv.writer(csvfile, delimiter=',')\n",
    "        file.writerow(header)\n",
    "        for item in Counter(entities[i]).most_common(30):\n",
    "            urls = []\n",
    "            row = list(item)\n",
    "            texts = list(set(names[item[0]]))\n",
    "            row.append(len(texts))\n",
    "            row.append(\"\\n \".join(texts))\n",
    "\n",
    "            for text in texts:\n",
    "                #print(text)\n",
    "                url = find_urls(text, sample)\n",
    "                urls.append(result)\n",
    "\n",
    "            row.append(\"\\n \".join(urls))\n",
    "            file.writerow(row)\n",
    "    i += 1\n",
    "    print(filename)"
   ]
  },
  {
   "cell_type": "code",
   "execution_count": 123,
   "id": "ef522c1f-d416-4a88-a0c3-d4dee3b818d7",
   "metadata": {},
   "outputs": [
    {
     "name": "stdout",
     "output_type": "stream",
     "text": [
      "people_mentions.csv\n",
      "organizations_mentions.csv\n",
      "mixed_mentions.csv\n"
     ]
    }
   ],
   "source": [
    "filenames = ['people_mentions.csv', 'organizations_mentions.csv', 'mixed_mentions.csv'] \n",
    "header = ['entity', 'text_id', 'url']\n",
    "i = 0\n",
    "sample = pd.read_csv(\"final_sample.csv\")\n",
    "\n",
    "\n",
    "for filename in filenames:\n",
    "    with open(filename, 'w', newline='') as csvfile:\n",
    "        file = csv.writer(csvfile, delimiter=',')\n",
    "        file.writerow(header)\n",
    "        for name, freq in Counter(entities[i]).most_common(30):\n",
    "            row_fp = [name]\n",
    "            texts = list(set(names[name]))\n",
    "            \n",
    "            #row.append(\"\\n \".join(texts))\n",
    "\n",
    "            for text in texts:\n",
    "                row = []\n",
    "                row_complete = []\n",
    "                url = find_urls(text, sample)\n",
    "\n",
    "                row.append(text)\n",
    "                row.append(url)\n",
    "\n",
    "                row_complete.extend(row_fp)\n",
    "                row_complete.extend(row)\n",
    "                #print(row_complete)\n",
    "                file.writerow(row_complete)\n",
    "    i += 1\n",
    "    print(filename)"
   ]
  },
  {
   "cell_type": "markdown",
   "id": "5349403d-645d-48ee-a466-f4a54ffe80c2",
   "metadata": {},
   "source": [
    "Manual correction of the extracted entities in google sheets."
   ]
  }
 ],
 "metadata": {
  "kernelspec": {
   "display_name": "Python 3 (ipykernel)",
   "language": "python",
   "name": "python3"
  },
  "language_info": {
   "codemirror_mode": {
    "name": "ipython",
    "version": 3
   },
   "file_extension": ".py",
   "mimetype": "text/x-python",
   "name": "python",
   "nbconvert_exporter": "python",
   "pygments_lexer": "ipython3",
   "version": "3.12.7"
  }
 },
 "nbformat": 4,
 "nbformat_minor": 5
}
